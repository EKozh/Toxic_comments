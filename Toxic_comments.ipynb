{
 "cells": [
  {
   "cell_type": "markdown",
   "metadata": {
    "toc": true
   },
   "source": [
    "<h1>Содержание<span class=\"tocSkip\"></span></h1>\n",
    "<div class=\"toc\"><ul class=\"toc-item\"><li><span><a href=\"#Подготовка\" data-toc-modified-id=\"Подготовка-1\"><span class=\"toc-item-num\">1&nbsp;&nbsp;</span>Подготовка</a></span></li><li><span><a href=\"#Обучение\" data-toc-modified-id=\"Обучение-2\"><span class=\"toc-item-num\">2&nbsp;&nbsp;</span>Обучение</a></span><ul class=\"toc-item\"><li><span><a href=\"#Логистическая-регрессия\" data-toc-modified-id=\"Логистическая-регрессия-2.1\"><span class=\"toc-item-num\">2.1&nbsp;&nbsp;</span>Логистическая регрессия</a></span></li><li><span><a href=\"#LGBMClassifier\" data-toc-modified-id=\"LGBMClassifier-2.2\"><span class=\"toc-item-num\">2.2&nbsp;&nbsp;</span>LGBMClassifier</a></span></li></ul></li><li><span><a href=\"#Выводы\" data-toc-modified-id=\"Выводы-3\"><span class=\"toc-item-num\">3&nbsp;&nbsp;</span>Выводы</a></span></li><li><span><a href=\"#Чек-лист-проверки\" data-toc-modified-id=\"Чек-лист-проверки-4\"><span class=\"toc-item-num\">4&nbsp;&nbsp;</span>Чек-лист проверки</a></span></li></ul></div>"
   ]
  },
  {
   "cell_type": "markdown",
   "metadata": {},
   "source": [
    "# Проект для «Викишоп»"
   ]
  },
  {
   "cell_type": "markdown",
   "metadata": {},
   "source": [
    "Интернет-магазин «Викишоп» запускает новый сервис. Теперь пользователи могут редактировать и дополнять описания товаров, как в вики-сообществах. То есть клиенты предлагают свои правки и комментируют изменения других. Магазину нужен инструмент, который будет искать токсичные комментарии и отправлять их на модерацию. \n",
    "\n",
    "Обучите модель классифицировать комментарии на позитивные и негативные. В вашем распоряжении набор данных с разметкой о токсичности правок.\n",
    "\n",
    "Постройте модель со значением метрики качества *F1* не меньше 0.75. \n",
    "\n",
    "**Инструкция по выполнению проекта**\n",
    "\n",
    "1. Загрузите и подготовьте данные.\n",
    "2. Обучите разные модели. \n",
    "3. Сделайте выводы.\n",
    "\n",
    "Для выполнения проекта применять *BERT* необязательно, но вы можете попробовать.\n",
    "\n",
    "**Описание данных**\n",
    "\n",
    "Данные находятся в файле `toxic_comments.csv`. Столбец *text* в нём содержит текст комментария, а *toxic* — целевой признак."
   ]
  },
  {
   "cell_type": "markdown",
   "metadata": {},
   "source": [
    "## Подготовка"
   ]
  },
  {
   "cell_type": "code",
   "execution_count": 10,
   "metadata": {},
   "outputs": [
    {
     "name": "stdout",
     "output_type": "stream",
     "text": [
      "Requirement already satisfied: lightgbm in c:\\users\\ven89\\anaconda3\\lib\\site-packages (3.3.5)\n",
      "Requirement already satisfied: numpy in c:\\users\\ven89\\anaconda3\\lib\\site-packages (from lightgbm) (1.21.5)\n",
      "Requirement already satisfied: scipy in c:\\users\\ven89\\anaconda3\\lib\\site-packages (from lightgbm) (1.7.3)\n",
      "Requirement already satisfied: wheel in c:\\users\\ven89\\anaconda3\\lib\\site-packages (from lightgbm) (0.37.1)\n",
      "Requirement already satisfied: scikit-learn!=0.22.0 in c:\\users\\ven89\\anaconda3\\lib\\site-packages (from lightgbm) (1.0.2)\n",
      "Requirement already satisfied: threadpoolctl>=2.0.0 in c:\\users\\ven89\\anaconda3\\lib\\site-packages (from scikit-learn!=0.22.0->lightgbm) (2.2.0)\n",
      "Requirement already satisfied: joblib>=0.11 in c:\\users\\ven89\\anaconda3\\lib\\site-packages (from scikit-learn!=0.22.0->lightgbm) (1.1.0)\n"
     ]
    }
   ],
   "source": [
    "!pip install lightgbm"
   ]
  },
  {
   "cell_type": "code",
   "execution_count": 11,
   "metadata": {},
   "outputs": [],
   "source": [
    "import pandas as pd\n",
    "import numpy as np\n",
    "\n",
    "%matplotlib inline\n",
    "import matplotlib.pyplot as plt\n",
    "import seaborn as sns\n",
    "\n",
    "import re\n",
    "from sklearn.pipeline import Pipeline\n",
    "import nltk\n",
    "from nltk.corpus import stopwords as nltk_stopwords\n",
    "from nltk.corpus import wordnet\n",
    "from nltk.stem import WordNetLemmatizer\n",
    "from nltk.probability import FreqDist\n",
    "from nltk.tokenize import word_tokenize \n",
    "nltk.download('wordnet','stopwords','punkt','averaged_perceptron_tagger')\n",
    "\n",
    "from sklearn.feature_extraction.text import TfidfVectorizer, CountVectorizer\n",
    "from sklearn.model_selection import train_test_split, cross_val_score, GridSearchCV\n",
    "\n",
    "from sklearn.linear_model import LogisticRegression\n",
    "from lightgbm import LGBMClassifier\n",
    "\n",
    "from sklearn.metrics import f1_score\n",
    "\n",
    "from sklearn.utils import shuffle\n",
    "\n",
    "\n",
    "import warnings\n",
    "warnings.filterwarnings('ignore')"
   ]
  },
  {
   "cell_type": "code",
   "execution_count": 12,
   "metadata": {},
   "outputs": [],
   "source": [
    "try:\n",
    "    data = pd.read_csv('/datasets/toxic_comments.csv', index_col=0)\n",
    "except:\n",
    "    data = pd.read_csv('C:/Users/ven89/OneDrive/Desktop/Кожемякина/toxic_comments.csv', index_col=0)\n",
    "    "
   ]
  },
  {
   "cell_type": "code",
   "execution_count": 13,
   "metadata": {},
   "outputs": [
    {
     "name": "stdout",
     "output_type": "stream",
     "text": [
      "<class 'pandas.core.frame.DataFrame'>\n",
      "Int64Index: 159292 entries, 0 to 159450\n",
      "Data columns (total 2 columns):\n",
      " #   Column  Non-Null Count   Dtype \n",
      "---  ------  --------------   ----- \n",
      " 0   text    159292 non-null  object\n",
      " 1   toxic   159292 non-null  int64 \n",
      "dtypes: int64(1), object(1)\n",
      "memory usage: 3.6+ MB\n"
     ]
    }
   ],
   "source": [
    "# общая информация\n",
    "data.info()"
   ]
  },
  {
   "cell_type": "code",
   "execution_count": 14,
   "metadata": {},
   "outputs": [
    {
     "data": {
      "text/html": [
       "<div>\n",
       "<style scoped>\n",
       "    .dataframe tbody tr th:only-of-type {\n",
       "        vertical-align: middle;\n",
       "    }\n",
       "\n",
       "    .dataframe tbody tr th {\n",
       "        vertical-align: top;\n",
       "    }\n",
       "\n",
       "    .dataframe thead th {\n",
       "        text-align: right;\n",
       "    }\n",
       "</style>\n",
       "<table border=\"1\" class=\"dataframe\">\n",
       "  <thead>\n",
       "    <tr style=\"text-align: right;\">\n",
       "      <th></th>\n",
       "      <th>text</th>\n",
       "      <th>toxic</th>\n",
       "    </tr>\n",
       "  </thead>\n",
       "  <tbody>\n",
       "    <tr>\n",
       "      <th>9406</th>\n",
       "      <td>\"\\n\\nLanguage and Mind-set of a Popular 1950s ...</td>\n",
       "      <td>0</td>\n",
       "    </tr>\n",
       "    <tr>\n",
       "      <th>58439</th>\n",
       "      <td>Thank you\\nFor your taking the time and effort...</td>\n",
       "      <td>0</td>\n",
       "    </tr>\n",
       "    <tr>\n",
       "      <th>85585</th>\n",
       "      <td>Yep, David section shall be reviewed, prolly w...</td>\n",
       "      <td>0</td>\n",
       "    </tr>\n",
       "    <tr>\n",
       "      <th>72583</th>\n",
       "      <td>\"\\n{| style=\"\"background-color:#F5FFFA; paddin...</td>\n",
       "      <td>0</td>\n",
       "    </tr>\n",
       "    <tr>\n",
       "      <th>122409</th>\n",
       "      <td>, don't try to give the japanese credit for ev...</td>\n",
       "      <td>0</td>\n",
       "    </tr>\n",
       "  </tbody>\n",
       "</table>\n",
       "</div>"
      ],
      "text/plain": [
       "                                                     text  toxic\n",
       "9406    \"\\n\\nLanguage and Mind-set of a Popular 1950s ...      0\n",
       "58439   Thank you\\nFor your taking the time and effort...      0\n",
       "85585   Yep, David section shall be reviewed, prolly w...      0\n",
       "72583   \"\\n{| style=\"\"background-color:#F5FFFA; paddin...      0\n",
       "122409  , don't try to give the japanese credit for ev...      0"
      ]
     },
     "execution_count": 14,
     "metadata": {},
     "output_type": "execute_result"
    }
   ],
   "source": [
    "# посмотрим первые строки\n",
    "data.sample(5)"
   ]
  },
  {
   "cell_type": "code",
   "execution_count": 15,
   "metadata": {},
   "outputs": [
    {
     "name": "stdout",
     "output_type": "stream",
     "text": [
      "Количество пропущенных значений 0\n"
     ]
    }
   ],
   "source": [
    "print('Количество пропущенных значений', data.isna().sum().sum())"
   ]
  },
  {
   "cell_type": "code",
   "execution_count": 16,
   "metadata": {},
   "outputs": [],
   "source": [
    "# функция, которая очистит текс от лишних символов\n",
    "def clear_text(text):\n",
    "    text = text.lower()\n",
    "    text = re.sub(r'[^a-zA-Z ]', ' ', text)\n",
    "    text = ' '.join(text.split())\n",
    "    return text"
   ]
  },
  {
   "cell_type": "code",
   "execution_count": 17,
   "metadata": {},
   "outputs": [
    {
     "data": {
      "text/html": [
       "<div>\n",
       "<style scoped>\n",
       "    .dataframe tbody tr th:only-of-type {\n",
       "        vertical-align: middle;\n",
       "    }\n",
       "\n",
       "    .dataframe tbody tr th {\n",
       "        vertical-align: top;\n",
       "    }\n",
       "\n",
       "    .dataframe thead th {\n",
       "        text-align: right;\n",
       "    }\n",
       "</style>\n",
       "<table border=\"1\" class=\"dataframe\">\n",
       "  <thead>\n",
       "    <tr style=\"text-align: right;\">\n",
       "      <th></th>\n",
       "      <th>text</th>\n",
       "      <th>toxic</th>\n",
       "      <th>lemm_text</th>\n",
       "    </tr>\n",
       "  </thead>\n",
       "  <tbody>\n",
       "    <tr>\n",
       "      <th>0</th>\n",
       "      <td>Explanation\\nWhy the edits made under my usern...</td>\n",
       "      <td>0</td>\n",
       "      <td>explanation why the edits made under my userna...</td>\n",
       "    </tr>\n",
       "    <tr>\n",
       "      <th>1</th>\n",
       "      <td>D'aww! He matches this background colour I'm s...</td>\n",
       "      <td>0</td>\n",
       "      <td>d aww he matches this background colour i m se...</td>\n",
       "    </tr>\n",
       "    <tr>\n",
       "      <th>2</th>\n",
       "      <td>Hey man, I'm really not trying to edit war. It...</td>\n",
       "      <td>0</td>\n",
       "      <td>hey man i m really not trying to edit war it s...</td>\n",
       "    </tr>\n",
       "    <tr>\n",
       "      <th>3</th>\n",
       "      <td>\"\\nMore\\nI can't make any real suggestions on ...</td>\n",
       "      <td>0</td>\n",
       "      <td>more i can t make any real suggestions on impr...</td>\n",
       "    </tr>\n",
       "    <tr>\n",
       "      <th>4</th>\n",
       "      <td>You, sir, are my hero. Any chance you remember...</td>\n",
       "      <td>0</td>\n",
       "      <td>you sir are my hero any chance you remember wh...</td>\n",
       "    </tr>\n",
       "  </tbody>\n",
       "</table>\n",
       "</div>"
      ],
      "text/plain": [
       "                                                text  toxic  \\\n",
       "0  Explanation\\nWhy the edits made under my usern...      0   \n",
       "1  D'aww! He matches this background colour I'm s...      0   \n",
       "2  Hey man, I'm really not trying to edit war. It...      0   \n",
       "3  \"\\nMore\\nI can't make any real suggestions on ...      0   \n",
       "4  You, sir, are my hero. Any chance you remember...      0   \n",
       "\n",
       "                                           lemm_text  \n",
       "0  explanation why the edits made under my userna...  \n",
       "1  d aww he matches this background colour i m se...  \n",
       "2  hey man i m really not trying to edit war it s...  \n",
       "3  more i can t make any real suggestions on impr...  \n",
       "4  you sir are my hero any chance you remember wh...  "
      ]
     },
     "execution_count": 17,
     "metadata": {},
     "output_type": "execute_result"
    }
   ],
   "source": [
    "# добавляю столбец с очищенным текстом\n",
    "data['lemm_text'] = data['text'].apply(clear_text)\n",
    "# проверка\n",
    "data.head()"
   ]
  },
  {
   "cell_type": "code",
   "execution_count": 18,
   "metadata": {},
   "outputs": [],
   "source": [
    "# для того, чтобы лемматизировать, нужно создать экземпляр WordNetLemmatizer()\n",
    "lemmatizer = WordNetLemmatizer()"
   ]
  },
  {
   "cell_type": "code",
   "execution_count": 19,
   "metadata": {},
   "outputs": [],
   "source": [
    "# ввожу функцию РОS-тэгирования слов:\n",
    "def get_wordnet_pos(word):\n",
    "    tag = nltk.pos_tag([word])[0][1][0].upper()\n",
    "    tag_dict = {\"J\": wordnet.ADJ,               #прилагательное\n",
    "                \"N\": wordnet.NOUN,              #существительное\n",
    "                \"V\": wordnet.VERB,              #глагол\n",
    "                \"R\": wordnet.ADV                #наречие\n",
    "               }  \n",
    "    return tag_dict.get(tag, wordnet.NOUN)"
   ]
  },
  {
   "cell_type": "code",
   "execution_count": 22,
   "metadata": {},
   "outputs": [],
   "source": [
    "#ввожу функцию леммализации тектов постов:\n",
    "def lemm_text(text):\n",
    "    text = [lemmatizer.lemmatize(w, get_wordnet_pos(w)) for w in nltk.word_tokenize(text)]\n",
    "    return ' '.join(text)"
   ]
  },
  {
   "cell_type": "code",
   "execution_count": 23,
   "metadata": {},
   "outputs": [
    {
     "name": "stdout",
     "output_type": "stream",
     "text": [
      "CPU times: total: 56min 6s\n",
      "Wall time: 56min 6s\n"
     ]
    }
   ],
   "source": [
    "%%time\n",
    "# лемматизирую текст\n",
    "data['lemm_text'] = data['lemm_text'].apply(lemm_text)"
   ]
  },
  {
   "cell_type": "code",
   "execution_count": 24,
   "metadata": {},
   "outputs": [
    {
     "data": {
      "text/plain": [
       "'explanation why the edits make under my username hardcore metallica fan be revert they weren t vandalism just closure on some gas after i vote at new york doll fac and please don t remove the template from the talk page since i m retire now'"
      ]
     },
     "execution_count": 24,
     "metadata": {},
     "output_type": "execute_result"
    }
   ],
   "source": [
    "# проверка\n",
    "data['lemm_text'][0]"
   ]
  },
  {
   "cell_type": "code",
   "execution_count": 25,
   "metadata": {},
   "outputs": [
    {
     "name": "stderr",
     "output_type": "stream",
     "text": [
      "[nltk_data] Downloading package punkt to\n",
      "[nltk_data]     C:\\Users\\ven89\\AppData\\Roaming\\nltk_data...\n",
      "[nltk_data]   Package punkt is already up-to-date!\n",
      "[nltk_data] Downloading package wordnet to\n",
      "[nltk_data]     C:\\Users\\ven89\\AppData\\Roaming\\nltk_data...\n",
      "[nltk_data]   Package wordnet is already up-to-date!\n",
      "[nltk_data] Downloading package averaged_perceptron_tagger to\n",
      "[nltk_data]     C:\\Users\\ven89\\AppData\\Roaming\\nltk_data...\n",
      "[nltk_data]   Package averaged_perceptron_tagger is already up-to-\n",
      "[nltk_data]       date!\n"
     ]
    },
    {
     "data": {
      "text/plain": [
       "True"
      ]
     },
     "execution_count": 25,
     "metadata": {},
     "output_type": "execute_result"
    }
   ],
   "source": [
    "nltk.download('punkt')\n",
    "nltk.download('wordnet')\n",
    "nltk.download('averaged_perceptron_tagger')\n"
   ]
  },
  {
   "cell_type": "code",
   "execution_count": 26,
   "metadata": {},
   "outputs": [
    {
     "name": "stderr",
     "output_type": "stream",
     "text": [
      "[nltk_data] Downloading package stopwords to\n",
      "[nltk_data]     C:\\Users\\ven89\\AppData\\Roaming\\nltk_data...\n",
      "[nltk_data]   Package stopwords is already up-to-date!\n"
     ]
    }
   ],
   "source": [
    "# cделаем стоп-слова\n",
    "nltk.download('stopwords')\n",
    "stopwords = set(nltk_stopwords.words('english'))"
   ]
  },
  {
   "cell_type": "code",
   "execution_count": 27,
   "metadata": {},
   "outputs": [
    {
     "data": {
      "text/html": [
       "<div>\n",
       "<style scoped>\n",
       "    .dataframe tbody tr th:only-of-type {\n",
       "        vertical-align: middle;\n",
       "    }\n",
       "\n",
       "    .dataframe tbody tr th {\n",
       "        vertical-align: top;\n",
       "    }\n",
       "\n",
       "    .dataframe thead th {\n",
       "        text-align: right;\n",
       "    }\n",
       "</style>\n",
       "<table border=\"1\" class=\"dataframe\">\n",
       "  <thead>\n",
       "    <tr style=\"text-align: right;\">\n",
       "      <th></th>\n",
       "      <th>text</th>\n",
       "      <th>toxic</th>\n",
       "      <th>lemm_text</th>\n",
       "    </tr>\n",
       "  </thead>\n",
       "  <tbody>\n",
       "    <tr>\n",
       "      <th>0</th>\n",
       "      <td>Explanation\\nWhy the edits made under my usern...</td>\n",
       "      <td>0</td>\n",
       "      <td>explanation why the edits make under my userna...</td>\n",
       "    </tr>\n",
       "    <tr>\n",
       "      <th>1</th>\n",
       "      <td>D'aww! He matches this background colour I'm s...</td>\n",
       "      <td>0</td>\n",
       "      <td>d aww he match this background colour i m seem...</td>\n",
       "    </tr>\n",
       "    <tr>\n",
       "      <th>2</th>\n",
       "      <td>Hey man, I'm really not trying to edit war. It...</td>\n",
       "      <td>0</td>\n",
       "      <td>hey man i m really not try to edit war it s ju...</td>\n",
       "    </tr>\n",
       "    <tr>\n",
       "      <th>3</th>\n",
       "      <td>\"\\nMore\\nI can't make any real suggestions on ...</td>\n",
       "      <td>0</td>\n",
       "      <td>more i can t make any real suggestion on impro...</td>\n",
       "    </tr>\n",
       "    <tr>\n",
       "      <th>4</th>\n",
       "      <td>You, sir, are my hero. Any chance you remember...</td>\n",
       "      <td>0</td>\n",
       "      <td>you sir be my hero any chance you remember wha...</td>\n",
       "    </tr>\n",
       "  </tbody>\n",
       "</table>\n",
       "</div>"
      ],
      "text/plain": [
       "                                                text  toxic  \\\n",
       "0  Explanation\\nWhy the edits made under my usern...      0   \n",
       "1  D'aww! He matches this background colour I'm s...      0   \n",
       "2  Hey man, I'm really not trying to edit war. It...      0   \n",
       "3  \"\\nMore\\nI can't make any real suggestions on ...      0   \n",
       "4  You, sir, are my hero. Any chance you remember...      0   \n",
       "\n",
       "                                           lemm_text  \n",
       "0  explanation why the edits make under my userna...  \n",
       "1  d aww he match this background colour i m seem...  \n",
       "2  hey man i m really not try to edit war it s ju...  \n",
       "3  more i can t make any real suggestion on impro...  \n",
       "4  you sir be my hero any chance you remember wha...  "
      ]
     },
     "execution_count": 27,
     "metadata": {},
     "output_type": "execute_result"
    }
   ],
   "source": [
    "data.head()"
   ]
  },
  {
   "cell_type": "code",
   "execution_count": 28,
   "metadata": {},
   "outputs": [
    {
     "name": "stdout",
     "output_type": "stream",
     "text": [
      "<class 'pandas.core.series.Series'>\n"
     ]
    }
   ],
   "source": [
    "text = data['lemm_text']\n",
    "print(type(text))"
   ]
  },
  {
   "cell_type": "code",
   "execution_count": 29,
   "metadata": {},
   "outputs": [
    {
     "data": {
      "text/plain": [
       "[('january', 21),\n",
       " ('thank you for experiment with wikipedia your test work and it have be revert or remove please use the sandbox for any other test you may want to do take a look at the welcome page to learn more about contribute to our encyclopedia talk',\n",
       "  19),\n",
       " ('jun utc', 18),\n",
       " ('please stop if you continue to vandalize page you will be block from edit wikipedia',\n",
       "  18),\n",
       " ('precede unsigned comment add by', 16)]"
      ]
     },
     "execution_count": 29,
     "metadata": {},
     "output_type": "execute_result"
    }
   ],
   "source": [
    "# посмотрим, какие слова встречаются чаще всего\n",
    "from nltk.probability import FreqDist\n",
    "\n",
    "fdist = FreqDist(text)\n",
    "fdist.most_common(5)"
   ]
  },
  {
   "cell_type": "code",
   "execution_count": 30,
   "metadata": {},
   "outputs": [
    {
     "data": {
      "image/png": "[encoded data removed]",
      "text/plain": [
       "<Figure size 936x432 with 1 Axes>"
      ]
     },
     "metadata": {
      "needs_background": "light"
     },
     "output_type": "display_data"
    },
    {
     "data": {
      "text/plain": [
       "<AxesSubplot:xlabel='Samples', ylabel='Counts'>"
      ]
     },
     "execution_count": 30,
     "metadata": {},
     "output_type": "execute_result"
    }
   ],
   "source": [
    "plt.figure(figsize=(13, 6))\n",
    "fdist.plot(30,cumulative=False)"
   ]
  },
  {
   "cell_type": "code",
   "execution_count": 31,
   "metadata": {},
   "outputs": [
    {
     "name": "stdout",
     "output_type": "stream",
     "text": [
      "0    143106\n",
      "1     16186\n",
      "Name: toxic, dtype: int64\n",
      "Распределение комментариев: 0.11\n"
     ]
    },
    {
     "data": {
      "image/png": "[encoded data removed]",
      "text/plain": [
       "<Figure size 936x432 with 1 Axes>"
      ]
     },
     "metadata": {
      "needs_background": "light"
     },
     "output_type": "display_data"
    }
   ],
   "source": [
    "# посмотрик как распределены комментарии\n",
    "print(data['toxic'].value_counts());\n",
    "print('Распределение комментариев:', round(data['toxic'].value_counts()[1]/data['toxic'].value_counts()[0], 2))\n",
    "\n",
    "\n",
    "plt.figure(figsize=(13, 6))\n",
    "sns.countplot(x='toxic', data=data);\n",
    "plt.title('Распределение комментаррием');"
   ]
  },
  {
   "cell_type": "markdown",
   "metadata": {},
   "source": [
    "В данных наблюдается дисбаланс классов, токсичных комментарий всего 11%. Необходимо учесть это при построении моделей. К балансировке методами upsample и downsamle решила не прибегать, так как, на мой взгляд, искуственная балансировка не отражает действительности и может завышать результат, поэтому пропорции негативных комментариев решила сохранить"
   ]
  },
  {
   "cell_type": "code",
   "execution_count": 32,
   "metadata": {},
   "outputs": [],
   "source": [
    "# объявляем признаки и целевой признак\n",
    "features = data['lemm_text']\n",
    "target = data['toxic']"
   ]
  },
  {
   "cell_type": "code",
   "execution_count": 33,
   "metadata": {},
   "outputs": [],
   "source": [
    "# делим на обучающую и тестовую выборки учитывая дисбаланс\n",
    "features_train_1, features_test_1, target_train, target_test = train_test_split(\n",
    "    features, target, test_size=0.25, random_state=42, stratify = target)"
   ]
  },
  {
   "cell_type": "code",
   "execution_count": 34,
   "metadata": {},
   "outputs": [
    {
     "name": "stdout",
     "output_type": "stream",
     "text": [
      "0.11311015662123004\n",
      "0.11308941498728234\n"
     ]
    }
   ],
   "source": [
    "# проверка\n",
    "print(target_train.value_counts()[1]/target_train.value_counts()[0])\n",
    "print(target_test.value_counts()[1]/target_test.value_counts()[0])"
   ]
  },
  {
   "cell_type": "code",
   "execution_count": 35,
   "metadata": {},
   "outputs": [
    {
     "name": "stderr",
     "output_type": "stream",
     "text": [
      "[nltk_data] Downloading package stopwords to\n",
      "[nltk_data]     C:\\Users\\ven89\\AppData\\Roaming\\nltk_data...\n",
      "[nltk_data]   Package stopwords is already up-to-date!\n"
     ]
    }
   ],
   "source": [
    "# cделаем стоп-слова и векторизацию текста\n",
    "nltk.download('stopwords')\n",
    "stopwords = set(nltk_stopwords.words('english'))\n",
    "#count_tf_idf = TfidfVectorizer(stop_words=stopwords)\n",
    "#features_train = count_tf_idf.fit_transform(features_train_1)\n",
    "#features_test = count_tf_idf.transform(features_test_1)"
   ]
  },
  {
   "cell_type": "code",
   "execution_count": 36,
   "metadata": {},
   "outputs": [
    {
     "name": "stdout",
     "output_type": "stream",
     "text": [
      "(119469,)\n",
      "(39823,)\n",
      "(119469,)\n",
      "(39823,)\n"
     ]
    }
   ],
   "source": [
    "# проверка\n",
    "print(features_train_1.shape)\n",
    "print(features_test_1.shape)\n",
    "print(target_train.shape)\n",
    "print(target_test.shape)"
   ]
  },
  {
   "cell_type": "markdown",
   "metadata": {},
   "source": [
    "## Обучение"
   ]
  },
  {
   "cell_type": "markdown",
   "metadata": {},
   "source": [
    "В качестве моделей будем использовать Логистическую регрессию и LGBMClassifier с учетом балансировки классов."
   ]
  },
  {
   "cell_type": "markdown",
   "metadata": {},
   "source": [
    "### Логистическая регрессия"
   ]
  },
  {
   "cell_type": "code",
   "execution_count": 37,
   "metadata": {},
   "outputs": [],
   "source": [
    "# посчитала folds\n",
    "from sklearn.model_selection import KFold\n",
    "folds = KFold(n_splits=8,  shuffle=True, random_state=12345)"
   ]
  },
  {
   "cell_type": "code",
   "execution_count": 38,
   "metadata": {},
   "outputs": [
    {
     "name": "stdout",
     "output_type": "stream",
     "text": [
      "Качество модели Логистической регрессии на кросс-валидации: 0.76\n",
      "при параметрах {'lr__C': 5, 'lr__class_weight': 'balanced', 'lr__max_iter': 200, 'lr__random_state': 12345}\n",
      "CPU times: total: 23.4 s\n",
      "Wall time: 24.6 s\n"
     ]
    }
   ],
   "source": [
    "%%time\n",
    "\n",
    "# подбор гиперпараметров:\n",
    "pipeline = Pipeline([(\"vect\", TfidfVectorizer(stop_words='english', sublinear_tf=True)), \n",
    "                     (\"lr\", LogisticRegression())])\n",
    "    \n",
    "parameters = {'lr__C': (.1, 1, 5, 10),\n",
    "              'lr__random_state': ([12345]),\n",
    "              'lr__max_iter': ([200]),\n",
    "              'lr__class_weight': (['balanced'])} \n",
    "gscv = GridSearchCV(pipeline, parameters, scoring='f1', cv=3, n_jobs=-1)\n",
    "\n",
    "gscv.fit(features_train_1, target_train)\n",
    "\n",
    "f1_lr_cv = gscv.best_score_\n",
    "print('Качество модели Логистической регрессии на кросс-валидации:', round(f1_lr_cv,2))\n",
    "print('при параметрах', gscv.best_params_)\n"
   ]
  },
  {
   "cell_type": "markdown",
   "metadata": {},
   "source": [
    "### LGBMClassifier"
   ]
  },
  {
   "cell_type": "code",
   "execution_count": 43,
   "metadata": {},
   "outputs": [
    {
     "name": "stdout",
     "output_type": "stream",
     "text": [
      "{'clf__class_weight': 'balanced', 'clf__num_leaves': 35}\n",
      "Качество модели LGBMClassifier на кросс-валидации: 0.7308552788243415\n",
      "CPU times: total: 13.4 s\n",
      "Wall time: 13min 41s\n"
     ]
    }
   ],
   "source": [
    "%%time\n",
    "\n",
    "lgb_pipe = Pipeline([\n",
    "    ('tfidf', TfidfVectorizer(ngram_range=(1,3), stop_words=stopwords, min_df=3, max_df=0.9, use_idf=1,\n",
    "               smooth_idf=1, sublinear_tf=1)),\n",
    "    ('clf', LGBMClassifier(random_state=12345))])\n",
    "\n",
    "params = {\n",
    "  'clf__num_leaves': [5, 10, 15, 20, 25, 31, 35],\n",
    "  'clf__class_weight': (['balanced'])\n",
    "  #'clf__learning_rate': [0.15, 0.25],\n",
    "  #'clf__max_depth': [5, 8, 10]\n",
    "}\n",
    "\n",
    "lgb_grid = GridSearchCV(estimator=lgb_pipe, param_grid=params, cv=folds, scoring='f1', n_jobs=-1, refit=False)\n",
    "lgb_grid.fit(features_train_1, target_train)\n",
    "lgb_best_params = lgb_grid.best_params_\n",
    "f1_lgb_cv = lgb_grid.best_score_\n",
    "print(lgb_best_params)\n",
    "print('Качество модели LGBMClassifier на кросс-валидации:', lgb_grid.best_score_)"
   ]
  },
  {
   "cell_type": "markdown",
   "metadata": {},
   "source": [
    "На кросс-валидации лучшей моделью стала Логистическая регрессия. Проверим эти модели на обучающей выборке."
   ]
  },
  {
   "cell_type": "code",
   "execution_count": 44,
   "metadata": {},
   "outputs": [],
   "source": [
    "# cделаем векторизацию текста\n",
    "count_tf_idf = TfidfVectorizer(stop_words=stopwords)\n",
    "features_train = count_tf_idf.fit_transform(features_train_1)\n",
    "features_test = count_tf_idf.transform(features_test_1)"
   ]
  },
  {
   "cell_type": "markdown",
   "metadata": {},
   "source": []
  },
  {
   "cell_type": "markdown",
   "metadata": {},
   "source": [
    "Наилучшей моделью на кросс-валидации является Логистическая регрессия с f1=0.77 проверим ее на тестовых данных:"
   ]
  },
  {
   "cell_type": "code",
   "execution_count": 51,
   "metadata": {},
   "outputs": [
    {
     "name": "stdout",
     "output_type": "stream",
     "text": [
      "Качество модели Логистической регрессии на обучающей выборке: 0.7577807848443843\n"
     ]
    }
   ],
   "source": [
    "# предсказания  модели Логистической регрессии на тестовых данных\n",
    "model_lr = LogisticRegression(class_weight='balanced', \n",
    "                                random_state=12345,\n",
    "                                C=5,\n",
    "                                max_iter=200\n",
    "                               )\n",
    "\n",
    "model_lr.fit(features_train, target_train)\n",
    "pred_lr_test = model_lr.predict(features_test)\n",
    "f1_lr_test = f1_score(target_test, pred_lr_test)\n",
    "print('Качество модели Логистической регрессии на обучающей выборке:', f1_lr_test)"
   ]
  },
  {
   "cell_type": "markdown",
   "metadata": {},
   "source": [
    "## Выводы"
   ]
  },
  {
   "cell_type": "markdown",
   "metadata": {},
   "source": [
    "Нашей целью было найти и обучить модель для магазина \"Викишоп\", которая способна классифицировать комментарии на позитивные и негативные для того, чтобы в дальнейшем токсичные отзывы отправлялись на модерацию. При этом достигуть результата предсказания наилучшей модели по мерке F1 не меньше 0.75.\n",
    "\n",
    "Перед обучением модели комментарии были очищены от лишних симполов. При проверке распределения классов былыло обнаружено, что негативных комментарием всего 11%. К балансировке методами upsample и downsamle решила не прибегать, так как, на мой взгляд, искуственная балансировка не отражает действительности и может завышать результат, поэтому пропорции негативных комментариев были сохранены.\n",
    "\n",
    "Для определения наилучшей модели были использованы модели LogisticRegression и LGBMClassifier. По итогам сравнеиня победила модель LogisticRegression с метрикой на тестовых данных F1=0.75.\n",
    "\n",
    "Таким образом, для магазина \"Викишоп\" можно рекомендовать модель LogisticRegression.\n"
   ]
  }
 ],
 "metadata": {
  "ExecuteTimeLog": [
   {
    "duration": 470,
    "start_time": "2023-03-29T11:50:31.676Z"
   },
   {
    "duration": 152,
    "start_time": "2023-03-29T11:50:32.217Z"
   },
   {
    "duration": 2693,
    "start_time": "2023-03-29T11:51:02.174Z"
   },
   {
    "duration": 29,
    "start_time": "2023-03-29T11:51:15.694Z"
   },
   {
    "duration": 15,
    "start_time": "2023-03-29T11:51:30.781Z"
   },
   {
    "duration": 1225,
    "start_time": "2023-03-30T09:43:26.659Z"
   },
   {
    "duration": 3589,
    "start_time": "2023-03-30T09:43:28.524Z"
   },
   {
    "duration": 26,
    "start_time": "2023-03-30T09:43:32.115Z"
   },
   {
    "duration": 14,
    "start_time": "2023-03-30T09:43:32.142Z"
   },
   {
    "duration": 126,
    "start_time": "2023-03-30T09:43:52.526Z"
   },
   {
    "duration": 777,
    "start_time": "2023-03-30T09:44:01.463Z"
   },
   {
    "duration": 1895,
    "start_time": "2023-03-30T09:44:39.528Z"
   },
   {
    "duration": 4,
    "start_time": "2023-03-30T09:45:27.339Z"
   },
   {
    "duration": 3,
    "start_time": "2023-03-30T09:45:54.879Z"
   },
   {
    "duration": 667,
    "start_time": "2023-03-30T09:45:55.506Z"
   },
   {
    "duration": 31,
    "start_time": "2023-03-30T09:45:56.180Z"
   },
   {
    "duration": 9,
    "start_time": "2023-03-30T09:45:56.836Z"
   },
   {
    "duration": 45,
    "start_time": "2023-03-30T09:46:13.803Z"
   },
   {
    "duration": 1212,
    "start_time": "2023-03-30T09:46:26.792Z"
   },
   {
    "duration": 3549,
    "start_time": "2023-03-30T09:46:28.006Z"
   },
   {
    "duration": 30,
    "start_time": "2023-03-30T09:46:31.556Z"
   },
   {
    "duration": 27,
    "start_time": "2023-03-30T09:46:31.589Z"
   },
   {
    "duration": 1298,
    "start_time": "2023-03-30T09:46:55.603Z"
   },
   {
    "duration": 3709,
    "start_time": "2023-03-30T09:46:56.903Z"
   },
   {
    "duration": 30,
    "start_time": "2023-03-30T09:47:00.614Z"
   },
   {
    "duration": 48,
    "start_time": "2023-03-30T09:47:00.647Z"
   },
   {
    "duration": 1406,
    "start_time": "2023-03-30T09:59:22.748Z"
   },
   {
    "duration": 3703,
    "start_time": "2023-03-30T09:59:24.156Z"
   },
   {
    "duration": 19,
    "start_time": "2023-03-30T09:59:48.182Z"
   },
   {
    "duration": 60,
    "start_time": "2023-03-30T10:00:22.878Z"
   },
   {
    "duration": 1423,
    "start_time": "2023-03-30T10:00:31.813Z"
   },
   {
    "duration": 4651,
    "start_time": "2023-03-30T10:00:33.238Z"
   },
   {
    "duration": 41,
    "start_time": "2023-03-30T10:00:37.895Z"
   },
   {
    "duration": 15,
    "start_time": "2023-03-30T10:00:37.938Z"
   },
   {
    "duration": 1235,
    "start_time": "2023-03-30T10:19:45.813Z"
   },
   {
    "duration": 3642,
    "start_time": "2023-03-30T10:19:47.050Z"
   },
   {
    "duration": 40,
    "start_time": "2023-03-30T10:19:51.638Z"
   },
   {
    "duration": 13,
    "start_time": "2023-03-30T10:19:52.824Z"
   },
   {
    "duration": 1690,
    "start_time": "2023-03-30T10:19:53.580Z"
   },
   {
    "duration": 12,
    "start_time": "2023-03-30T10:19:55.274Z"
   },
   {
    "duration": 717,
    "start_time": "2023-03-30T10:19:57.310Z"
   },
   {
    "duration": 13,
    "start_time": "2023-03-30T10:20:11.749Z"
   },
   {
    "duration": 1178,
    "start_time": "2023-03-30T10:25:13.325Z"
   },
   {
    "duration": 3718,
    "start_time": "2023-03-30T10:25:14.505Z"
   },
   {
    "duration": 26,
    "start_time": "2023-03-30T10:25:18.225Z"
   },
   {
    "duration": 12,
    "start_time": "2023-03-30T10:25:18.252Z"
   },
   {
    "duration": 1846,
    "start_time": "2023-03-30T10:25:18.266Z"
   },
   {
    "duration": 13,
    "start_time": "2023-03-30T10:25:20.114Z"
   },
   {
    "duration": 868,
    "start_time": "2023-03-30T10:25:20.128Z"
   },
   {
    "duration": 10,
    "start_time": "2023-03-30T10:25:20.999Z"
   },
   {
    "duration": 248,
    "start_time": "2023-03-30T10:25:21.011Z"
   },
   {
    "duration": 9497,
    "start_time": "2023-03-30T10:25:21.261Z"
   },
   {
    "duration": 133,
    "start_time": "2023-03-30T10:31:52.590Z"
   },
   {
    "duration": 8,
    "start_time": "2023-03-30T10:32:05.490Z"
   },
   {
    "duration": 798,
    "start_time": "2023-03-30T10:32:05.639Z"
   },
   {
    "duration": 33,
    "start_time": "2023-03-30T10:32:06.439Z"
   },
   {
    "duration": 8,
    "start_time": "2023-03-30T10:32:06.476Z"
   },
   {
    "duration": 1256,
    "start_time": "2023-03-30T10:32:16.854Z"
   },
   {
    "duration": 3562,
    "start_time": "2023-03-30T10:32:18.112Z"
   },
   {
    "duration": 36,
    "start_time": "2023-03-30T10:32:21.680Z"
   },
   {
    "duration": 25,
    "start_time": "2023-03-30T10:32:21.718Z"
   },
   {
    "duration": 1773,
    "start_time": "2023-03-30T10:32:21.745Z"
   },
   {
    "duration": 3,
    "start_time": "2023-03-30T10:32:23.519Z"
   },
   {
    "duration": 4,
    "start_time": "2023-03-30T10:32:23.523Z"
   },
   {
    "duration": 8,
    "start_time": "2023-03-30T10:32:23.528Z"
   },
   {
    "duration": 713,
    "start_time": "2023-03-30T10:32:23.537Z"
   },
   {
    "duration": 9,
    "start_time": "2023-03-30T10:32:24.252Z"
   },
   {
    "duration": 157,
    "start_time": "2023-03-30T10:32:24.268Z"
   },
   {
    "duration": 9051,
    "start_time": "2023-03-30T10:32:24.426Z"
   },
   {
    "duration": 3,
    "start_time": "2023-03-30T10:44:27.637Z"
   },
   {
    "duration": 676,
    "start_time": "2023-03-30T10:44:28.219Z"
   },
   {
    "duration": 26,
    "start_time": "2023-03-30T10:44:28.897Z"
   },
   {
    "duration": 8,
    "start_time": "2023-03-30T10:44:30.022Z"
   },
   {
    "duration": 44,
    "start_time": "2023-03-30T10:44:34.620Z"
   },
   {
    "duration": 1232,
    "start_time": "2023-03-30T10:44:44.093Z"
   },
   {
    "duration": 3465,
    "start_time": "2023-03-30T10:44:45.327Z"
   },
   {
    "duration": 27,
    "start_time": "2023-03-30T10:44:48.793Z"
   },
   {
    "duration": 12,
    "start_time": "2023-03-30T10:44:48.822Z"
   },
   {
    "duration": 1679,
    "start_time": "2023-03-30T10:44:48.836Z"
   },
   {
    "duration": 13,
    "start_time": "2023-03-30T10:44:50.517Z"
   },
   {
    "duration": 12,
    "start_time": "2023-03-30T10:44:50.531Z"
   },
   {
    "duration": 308,
    "start_time": "2023-03-30T10:44:50.544Z"
   },
   {
    "duration": 0,
    "start_time": "2023-03-30T10:44:50.853Z"
   },
   {
    "duration": 0,
    "start_time": "2023-03-30T10:44:50.855Z"
   },
   {
    "duration": 0,
    "start_time": "2023-03-30T10:44:50.856Z"
   },
   {
    "duration": 0,
    "start_time": "2023-03-30T10:44:50.856Z"
   },
   {
    "duration": 72,
    "start_time": "2023-03-30T10:45:15.138Z"
   },
   {
    "duration": 663,
    "start_time": "2023-03-30T10:45:15.296Z"
   },
   {
    "duration": 35,
    "start_time": "2023-03-30T10:45:15.961Z"
   },
   {
    "duration": 7,
    "start_time": "2023-03-30T10:45:15.998Z"
   },
   {
    "duration": 1242,
    "start_time": "2023-03-30T10:45:53.894Z"
   },
   {
    "duration": 3490,
    "start_time": "2023-03-30T10:45:55.138Z"
   },
   {
    "duration": 28,
    "start_time": "2023-03-30T10:45:58.629Z"
   },
   {
    "duration": 21,
    "start_time": "2023-03-30T10:45:58.658Z"
   },
   {
    "duration": 1709,
    "start_time": "2023-03-30T10:45:58.681Z"
   },
   {
    "duration": 26,
    "start_time": "2023-03-30T10:46:00.392Z"
   },
   {
    "duration": 60,
    "start_time": "2023-03-30T10:46:00.420Z"
   },
   {
    "duration": 7704,
    "start_time": "2023-03-30T10:46:00.482Z"
   },
   {
    "duration": 3,
    "start_time": "2023-03-30T10:46:08.187Z"
   },
   {
    "duration": 9,
    "start_time": "2023-03-30T10:46:08.191Z"
   },
   {
    "duration": 43,
    "start_time": "2023-03-30T10:46:08.201Z"
   },
   {
    "duration": 49,
    "start_time": "2023-03-30T10:46:08.246Z"
   },
   {
    "duration": 3,
    "start_time": "2023-03-30T10:47:09.744Z"
   },
   {
    "duration": 2165,
    "start_time": "2023-03-30T10:47:10.816Z"
   },
   {
    "duration": 107,
    "start_time": "2023-03-30T10:52:08.323Z"
   },
   {
    "duration": 1761,
    "start_time": "2023-03-30T10:52:37.612Z"
   },
   {
    "duration": 757,
    "start_time": "2023-03-30T10:52:39.376Z"
   },
   {
    "duration": 35,
    "start_time": "2023-03-30T10:52:40.135Z"
   },
   {
    "duration": 12,
    "start_time": "2023-03-30T10:52:40.172Z"
   },
   {
    "duration": 1850,
    "start_time": "2023-03-30T10:52:40.193Z"
   },
   {
    "duration": 7,
    "start_time": "2023-03-30T10:52:42.045Z"
   },
   {
    "duration": 16,
    "start_time": "2023-03-30T10:52:42.053Z"
   },
   {
    "duration": 2100,
    "start_time": "2023-03-30T10:52:42.070Z"
   },
   {
    "duration": 122,
    "start_time": "2023-03-30T10:52:44.171Z"
   },
   {
    "duration": 0,
    "start_time": "2023-03-30T10:52:44.294Z"
   },
   {
    "duration": 0,
    "start_time": "2023-03-30T10:52:44.296Z"
   },
   {
    "duration": 0,
    "start_time": "2023-03-30T10:52:44.297Z"
   },
   {
    "duration": 0,
    "start_time": "2023-03-30T10:52:44.298Z"
   },
   {
    "duration": 27,
    "start_time": "2023-03-30T10:53:03.202Z"
   },
   {
    "duration": 138,
    "start_time": "2023-03-30T10:53:09.120Z"
   },
   {
    "duration": 130,
    "start_time": "2023-03-30T10:53:15.667Z"
   },
   {
    "duration": 21,
    "start_time": "2023-03-30T10:53:59.634Z"
   },
   {
    "duration": 131,
    "start_time": "2023-03-30T10:54:15.332Z"
   },
   {
    "duration": 140,
    "start_time": "2023-03-30T10:55:43.906Z"
   },
   {
    "duration": 47,
    "start_time": "2023-03-30T10:56:07.087Z"
   },
   {
    "duration": 133,
    "start_time": "2023-03-30T10:56:17.167Z"
   },
   {
    "duration": 157,
    "start_time": "2023-03-30T10:57:06.333Z"
   },
   {
    "duration": 145,
    "start_time": "2023-03-30T10:57:19.179Z"
   },
   {
    "duration": 1601,
    "start_time": "2023-03-30T11:02:51.923Z"
   },
   {
    "duration": 667,
    "start_time": "2023-03-30T11:02:53.526Z"
   },
   {
    "duration": 24,
    "start_time": "2023-03-30T11:02:54.196Z"
   },
   {
    "duration": 9,
    "start_time": "2023-03-30T11:02:54.222Z"
   },
   {
    "duration": 1700,
    "start_time": "2023-03-30T11:02:54.233Z"
   },
   {
    "duration": 4,
    "start_time": "2023-03-30T11:02:55.934Z"
   },
   {
    "duration": 7,
    "start_time": "2023-03-30T11:02:55.940Z"
   },
   {
    "duration": 1865,
    "start_time": "2023-03-30T11:02:55.948Z"
   },
   {
    "duration": 155,
    "start_time": "2023-03-30T11:02:57.815Z"
   },
   {
    "duration": 3,
    "start_time": "2023-03-30T11:02:57.972Z"
   },
   {
    "duration": 5,
    "start_time": "2023-03-30T11:02:57.976Z"
   },
   {
    "duration": 4,
    "start_time": "2023-03-30T11:02:57.982Z"
   },
   {
    "duration": 4,
    "start_time": "2023-03-30T11:02:57.988Z"
   },
   {
    "duration": 1495,
    "start_time": "2023-03-30T11:33:24.682Z"
   },
   {
    "duration": 690,
    "start_time": "2023-03-30T11:33:26.179Z"
   },
   {
    "duration": 21,
    "start_time": "2023-03-30T11:33:26.870Z"
   },
   {
    "duration": 17,
    "start_time": "2023-03-30T11:33:26.892Z"
   },
   {
    "duration": 1754,
    "start_time": "2023-03-30T11:33:26.911Z"
   },
   {
    "duration": 4,
    "start_time": "2023-03-30T11:33:28.666Z"
   },
   {
    "duration": 3,
    "start_time": "2023-03-30T11:33:28.672Z"
   },
   {
    "duration": 1894,
    "start_time": "2023-03-30T11:33:28.677Z"
   },
   {
    "duration": 156,
    "start_time": "2023-03-30T11:33:30.573Z"
   },
   {
    "duration": 123,
    "start_time": "2023-03-30T11:33:30.731Z"
   },
   {
    "duration": 0,
    "start_time": "2023-03-30T11:33:30.855Z"
   },
   {
    "duration": 0,
    "start_time": "2023-03-30T11:33:30.857Z"
   },
   {
    "duration": 0,
    "start_time": "2023-03-30T11:33:30.858Z"
   },
   {
    "duration": 0,
    "start_time": "2023-03-30T11:33:30.859Z"
   },
   {
    "duration": 0,
    "start_time": "2023-03-30T11:33:30.868Z"
   },
   {
    "duration": 2,
    "start_time": "2023-03-30T11:35:11.591Z"
   },
   {
    "duration": 55,
    "start_time": "2023-03-30T11:35:15.947Z"
   },
   {
    "duration": 232,
    "start_time": "2023-03-30T11:36:40.912Z"
   },
   {
    "duration": 6835,
    "start_time": "2023-03-30T11:37:08.283Z"
   },
   {
    "duration": 3,
    "start_time": "2023-03-30T11:37:31.619Z"
   },
   {
    "duration": 10,
    "start_time": "2023-03-30T12:00:12.466Z"
   },
   {
    "duration": 132370,
    "start_time": "2023-03-30T12:00:13.179Z"
   },
   {
    "duration": 37461,
    "start_time": "2023-03-30T12:03:32.816Z"
   },
   {
    "duration": 41643,
    "start_time": "2023-03-30T12:13:17.667Z"
   },
   {
    "duration": 40816,
    "start_time": "2023-03-30T12:14:04.670Z"
   },
   {
    "duration": 41,
    "start_time": "2023-03-30T12:14:48.912Z"
   },
   {
    "duration": 17,
    "start_time": "2023-03-30T12:16:55.676Z"
   },
   {
    "duration": 17,
    "start_time": "2023-03-30T12:17:07.565Z"
   },
   {
    "duration": 48401,
    "start_time": "2023-03-30T12:19:18.834Z"
   },
   {
    "duration": 18,
    "start_time": "2023-03-30T12:20:20.076Z"
   },
   {
    "duration": 1653,
    "start_time": "2023-03-30T12:20:36.071Z"
   },
   {
    "duration": 800,
    "start_time": "2023-03-30T12:20:37.726Z"
   },
   {
    "duration": 23,
    "start_time": "2023-03-30T12:20:38.527Z"
   },
   {
    "duration": 38,
    "start_time": "2023-03-30T12:20:38.552Z"
   },
   {
    "duration": 1961,
    "start_time": "2023-03-30T12:20:38.597Z"
   },
   {
    "duration": 8,
    "start_time": "2023-03-30T12:20:40.560Z"
   },
   {
    "duration": 9,
    "start_time": "2023-03-30T12:20:40.570Z"
   },
   {
    "duration": 2327,
    "start_time": "2023-03-30T12:20:40.580Z"
   },
   {
    "duration": 167,
    "start_time": "2023-03-30T12:20:42.909Z"
   },
   {
    "duration": 3,
    "start_time": "2023-03-30T12:20:43.078Z"
   },
   {
    "duration": 80,
    "start_time": "2023-03-30T12:20:43.083Z"
   },
   {
    "duration": 279,
    "start_time": "2023-03-30T12:20:43.165Z"
   },
   {
    "duration": 0,
    "start_time": "2023-03-30T12:20:43.445Z"
   },
   {
    "duration": 0,
    "start_time": "2023-03-30T12:20:43.447Z"
   },
   {
    "duration": 0,
    "start_time": "2023-03-30T12:20:43.448Z"
   },
   {
    "duration": 0,
    "start_time": "2023-03-30T12:20:43.449Z"
   },
   {
    "duration": 62,
    "start_time": "2023-03-30T12:21:19.942Z"
   },
   {
    "duration": 6532,
    "start_time": "2023-03-30T12:21:20.707Z"
   },
   {
    "duration": 3,
    "start_time": "2023-03-30T12:21:27.241Z"
   },
   {
    "duration": 5,
    "start_time": "2023-03-30T12:21:27.245Z"
   },
   {
    "duration": 50480,
    "start_time": "2023-03-30T12:21:27.251Z"
   },
   {
    "duration": 22,
    "start_time": "2023-03-30T12:22:17.732Z"
   },
   {
    "duration": 24,
    "start_time": "2023-03-30T12:22:40.969Z"
   },
   {
    "duration": 3,
    "start_time": "2023-03-30T12:23:29.837Z"
   },
   {
    "duration": 48350,
    "start_time": "2023-03-30T12:23:30.979Z"
   },
   {
    "duration": 17,
    "start_time": "2023-03-30T12:24:19.331Z"
   },
   {
    "duration": 2,
    "start_time": "2023-03-30T12:24:19.350Z"
   },
   {
    "duration": 14,
    "start_time": "2023-03-30T12:32:12.883Z"
   },
   {
    "duration": 3,
    "start_time": "2023-03-30T12:33:03.118Z"
   },
   {
    "duration": 179149,
    "start_time": "2023-03-30T12:33:06.510Z"
   },
   {
    "duration": 176959,
    "start_time": "2023-03-30T12:39:44.006Z"
   },
   {
    "duration": 11,
    "start_time": "2023-03-30T12:45:40.752Z"
   },
   {
    "duration": 2621,
    "start_time": "2023-03-30T12:45:53.312Z"
   },
   {
    "duration": 5961,
    "start_time": "2023-03-30T12:46:10.140Z"
   },
   {
    "duration": 4072,
    "start_time": "2023-03-30T12:46:56.319Z"
   },
   {
    "duration": 415,
    "start_time": "2023-03-30T12:48:54.371Z"
   },
   {
    "duration": 1535,
    "start_time": "2023-03-30T14:18:49.503Z"
   },
   {
    "duration": 703,
    "start_time": "2023-03-30T14:18:51.040Z"
   },
   {
    "duration": 35,
    "start_time": "2023-03-30T14:18:51.744Z"
   },
   {
    "duration": 10,
    "start_time": "2023-03-30T14:18:51.782Z"
   },
   {
    "duration": 1821,
    "start_time": "2023-03-30T14:18:51.794Z"
   },
   {
    "duration": 3,
    "start_time": "2023-03-30T14:18:53.617Z"
   },
   {
    "duration": 6,
    "start_time": "2023-03-30T14:18:53.621Z"
   },
   {
    "duration": 1922,
    "start_time": "2023-03-30T14:18:53.628Z"
   },
   {
    "duration": 158,
    "start_time": "2023-03-30T14:18:55.552Z"
   },
   {
    "duration": 3,
    "start_time": "2023-03-30T14:18:55.712Z"
   },
   {
    "duration": 70,
    "start_time": "2023-03-30T14:18:55.716Z"
   },
   {
    "duration": 6431,
    "start_time": "2023-03-30T14:18:55.788Z"
   },
   {
    "duration": 3,
    "start_time": "2023-03-30T14:19:02.221Z"
   },
   {
    "duration": 28,
    "start_time": "2023-03-30T14:19:02.226Z"
   },
   {
    "duration": 48264,
    "start_time": "2023-03-30T14:19:02.255Z"
   },
   {
    "duration": 16,
    "start_time": "2023-03-30T14:19:50.521Z"
   },
   {
    "duration": 3,
    "start_time": "2023-03-30T14:19:50.538Z"
   },
   {
    "duration": 4,
    "start_time": "2023-03-30T14:19:50.542Z"
   },
   {
    "duration": 180871,
    "start_time": "2023-03-30T14:19:50.574Z"
   },
   {
    "duration": 4372,
    "start_time": "2023-03-30T14:22:51.447Z"
   },
   {
    "duration": 463,
    "start_time": "2023-03-30T14:22:55.821Z"
   },
   {
    "duration": 7,
    "start_time": "2023-03-30T14:22:56.285Z"
   },
   {
    "duration": 130,
    "start_time": "2023-03-30T14:30:51.892Z"
   },
   {
    "duration": 1577,
    "start_time": "2023-03-30T14:32:19.624Z"
   },
   {
    "duration": 3344,
    "start_time": "2023-03-30T14:32:21.203Z"
   },
   {
    "duration": 29,
    "start_time": "2023-03-30T14:32:24.548Z"
   },
   {
    "duration": 10,
    "start_time": "2023-03-30T14:32:24.578Z"
   },
   {
    "duration": 1744,
    "start_time": "2023-03-30T14:32:24.590Z"
   },
   {
    "duration": 6,
    "start_time": "2023-03-30T14:32:26.336Z"
   },
   {
    "duration": 6,
    "start_time": "2023-03-30T14:32:26.343Z"
   },
   {
    "duration": 1840,
    "start_time": "2023-03-30T14:32:26.350Z"
   },
   {
    "duration": 161,
    "start_time": "2023-03-30T14:32:28.192Z"
   },
   {
    "duration": 3,
    "start_time": "2023-03-30T14:32:28.354Z"
   },
   {
    "duration": 52,
    "start_time": "2023-03-30T14:32:28.368Z"
   },
   {
    "duration": 6268,
    "start_time": "2023-03-30T14:32:28.421Z"
   },
   {
    "duration": 4,
    "start_time": "2023-03-30T14:32:34.691Z"
   },
   {
    "duration": 13,
    "start_time": "2023-03-30T14:32:34.697Z"
   },
   {
    "duration": 57216,
    "start_time": "2023-03-30T14:32:34.711Z"
   },
   {
    "duration": 16,
    "start_time": "2023-03-30T14:33:31.928Z"
   },
   {
    "duration": 2,
    "start_time": "2023-03-30T14:33:31.946Z"
   },
   {
    "duration": 22,
    "start_time": "2023-03-30T14:33:31.949Z"
   },
   {
    "duration": 183487,
    "start_time": "2023-03-30T14:33:31.972Z"
   },
   {
    "duration": 4524,
    "start_time": "2023-03-30T14:36:35.460Z"
   },
   {
    "duration": 493,
    "start_time": "2023-03-30T14:36:39.986Z"
   },
   {
    "duration": 50,
    "start_time": "2023-03-30T14:37:07.185Z"
   },
   {
    "duration": 1752,
    "start_time": "2023-03-30T14:37:28.086Z"
   },
   {
    "duration": 3626,
    "start_time": "2023-03-30T14:37:29.840Z"
   },
   {
    "duration": 37,
    "start_time": "2023-03-30T14:37:33.468Z"
   },
   {
    "duration": 12,
    "start_time": "2023-03-30T14:37:33.508Z"
   },
   {
    "duration": 1930,
    "start_time": "2023-03-30T14:37:33.522Z"
   },
   {
    "duration": 15,
    "start_time": "2023-03-30T14:37:35.454Z"
   },
   {
    "duration": 19,
    "start_time": "2023-03-30T14:37:35.471Z"
   },
   {
    "duration": 1728,
    "start_time": "2023-03-30T14:37:44.711Z"
   },
   {
    "duration": 763,
    "start_time": "2023-03-30T14:37:46.441Z"
   },
   {
    "duration": 30,
    "start_time": "2023-03-30T14:37:47.206Z"
   },
   {
    "duration": 10,
    "start_time": "2023-03-30T14:37:47.238Z"
   },
   {
    "duration": 1904,
    "start_time": "2023-03-30T14:37:48.316Z"
   },
   {
    "duration": 19,
    "start_time": "2023-03-30T14:37:50.222Z"
   },
   {
    "duration": 7,
    "start_time": "2023-03-30T14:37:50.243Z"
   },
   {
    "duration": 2342,
    "start_time": "2023-03-30T14:37:50.466Z"
   },
   {
    "duration": 160,
    "start_time": "2023-03-30T14:37:52.810Z"
   },
   {
    "duration": 3,
    "start_time": "2023-03-30T14:37:53.005Z"
   },
   {
    "duration": 66,
    "start_time": "2023-03-30T14:37:53.823Z"
   },
   {
    "duration": 7083,
    "start_time": "2023-03-30T14:37:54.590Z"
   },
   {
    "duration": 6,
    "start_time": "2023-03-30T14:38:01.676Z"
   },
   {
    "duration": 125,
    "start_time": "2023-03-30T14:38:04.010Z"
   },
   {
    "duration": 3,
    "start_time": "2023-03-30T14:38:16.102Z"
   },
   {
    "duration": 1674,
    "start_time": "2023-03-30T15:35:38.354Z"
   },
   {
    "duration": 3629,
    "start_time": "2023-03-30T15:35:40.030Z"
   },
   {
    "duration": 26,
    "start_time": "2023-03-30T15:35:43.661Z"
   },
   {
    "duration": 12,
    "start_time": "2023-03-30T15:35:43.689Z"
   },
   {
    "duration": 2245,
    "start_time": "2023-03-30T15:35:43.703Z"
   },
   {
    "duration": 14,
    "start_time": "2023-03-30T15:35:45.950Z"
   },
   {
    "duration": 10,
    "start_time": "2023-03-30T15:35:45.968Z"
   },
   {
    "duration": 2184,
    "start_time": "2023-03-30T15:35:45.980Z"
   },
   {
    "duration": 165,
    "start_time": "2023-03-30T15:35:48.165Z"
   },
   {
    "duration": 3,
    "start_time": "2023-03-30T15:35:48.331Z"
   },
   {
    "duration": 84,
    "start_time": "2023-03-30T15:35:48.336Z"
   },
   {
    "duration": 6436,
    "start_time": "2023-03-30T15:35:48.422Z"
   },
   {
    "duration": 4,
    "start_time": "2023-03-30T15:35:54.859Z"
   },
   {
    "duration": 5,
    "start_time": "2023-03-30T15:35:54.865Z"
   },
   {
    "duration": 54861,
    "start_time": "2023-03-30T15:35:54.872Z"
   },
   {
    "duration": 19,
    "start_time": "2023-03-30T15:36:49.735Z"
   },
   {
    "duration": 11,
    "start_time": "2023-03-30T15:36:49.768Z"
   },
   {
    "duration": 10,
    "start_time": "2023-03-30T15:36:49.782Z"
   },
   {
    "duration": 184011,
    "start_time": "2023-03-30T15:36:49.794Z"
   },
   {
    "duration": 4125,
    "start_time": "2023-03-30T15:39:53.807Z"
   },
   {
    "duration": 413,
    "start_time": "2023-03-30T15:39:57.934Z"
   },
   {
    "duration": 3,
    "start_time": "2023-03-30T15:39:58.349Z"
   },
   {
    "duration": 526,
    "start_time": "2023-03-30T15:39:58.354Z"
   },
   {
    "duration": 1704,
    "start_time": "2023-04-01T21:13:59.044Z"
   },
   {
    "duration": 3219,
    "start_time": "2023-04-01T21:14:00.749Z"
   },
   {
    "duration": 25,
    "start_time": "2023-04-01T21:14:03.970Z"
   },
   {
    "duration": 12,
    "start_time": "2023-04-01T21:14:03.997Z"
   },
   {
    "duration": 29,
    "start_time": "2023-04-01T21:14:04.010Z"
   },
   {
    "duration": 4,
    "start_time": "2023-04-01T21:14:05.250Z"
   },
   {
    "duration": 4,
    "start_time": "2023-04-01T21:14:14.153Z"
   },
   {
    "duration": 1980,
    "start_time": "2023-04-01T21:14:15.337Z"
   },
   {
    "duration": 4,
    "start_time": "2023-04-01T21:14:17.319Z"
   },
   {
    "duration": 3,
    "start_time": "2023-04-01T21:14:26.683Z"
   },
   {
    "duration": 3,
    "start_time": "2023-04-01T21:14:27.150Z"
   },
   {
    "duration": 395,
    "start_time": "2023-04-01T21:14:29.990Z"
   }
  ],
  "kernelspec": {
   "display_name": "Python 3 (ipykernel)",
   "language": "python",
   "name": "python3"
  },
  "language_info": {
   "codemirror_mode": {
    "name": "ipython",
    "version": 3
   },
   "file_extension": ".py",
   "mimetype": "text/x-python",
   "name": "python",
   "nbconvert_exporter": "python",
   "pygments_lexer": "ipython3",
   "version": "3.9.12"
  },
  "toc": {
   "base_numbering": 1,
   "nav_menu": {},
   "number_sections": true,
   "sideBar": true,
   "skip_h1_title": true,
   "title_cell": "Содержание",
   "title_sidebar": "Contents",
   "toc_cell": true,
   "toc_position": {
    "height": "calc(100% - 180px)",
    "left": "10px",
    "top": "150px",
    "width": "302.391px"
   },
   "toc_section_display": true,
   "toc_window_display": false
  }
 },
 "nbformat": 4,
 "nbformat_minor": 2
}
